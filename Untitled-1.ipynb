{
 "cells": [
  {
   "cell_type": "code",
   "execution_count": 3,
   "metadata": {},
   "outputs": [
    {
     "name": "stdout",
     "output_type": "stream",
     "text": [
      "Defaulting to user installation because normal site-packages is not writeable\n",
      "Collecting jupyterlab (from -r requirements.txt (line 2))\n",
      "  Downloading jupyterlab-4.1.3-py3-none-any.whl.metadata (15 kB)\n",
      "Requirement already satisfied: scikit-learn in /Users/i.itsuki/Library/Python/3.9/lib/python/site-packages (from -r requirements.txt (line 3)) (1.4.1.post1)\n",
      "Requirement already satisfied: matplotlib in /Users/i.itsuki/Library/Python/3.9/lib/python/site-packages (from -r requirements.txt (line 4)) (3.8.3)\n",
      "Requirement already satisfied: japanize-matplotlib in /Users/i.itsuki/Library/Python/3.9/lib/python/site-packages (from -r requirements.txt (line 5)) (1.1.3)\n",
      "Requirement already satisfied: seaborn in /Users/i.itsuki/Library/Python/3.9/lib/python/site-packages (from -r requirements.txt (line 6)) (0.13.2)\n",
      "Requirement already satisfied: pandas in /Users/i.itsuki/Library/Python/3.9/lib/python/site-packages (from -r requirements.txt (line 7)) (2.2.0)\n",
      "Requirement already satisfied: numpy in /Users/i.itsuki/Library/Python/3.9/lib/python/site-packages (from -r requirements.txt (line 8)) (1.26.4)\n",
      "Requirement already satisfied: scipy in /Users/i.itsuki/Library/Python/3.9/lib/python/site-packages (from -r requirements.txt (line 9)) (1.12.0)\n",
      "Collecting polars (from -r requirements.txt (line 10))\n",
      "  Downloading polars-0.20.13-cp38-abi3-macosx_11_0_arm64.whl.metadata (15 kB)\n",
      "Requirement already satisfied: pillow in /Users/i.itsuki/Library/Python/3.9/lib/python/site-packages (from -r requirements.txt (line 11)) (10.2.0)\n",
      "Collecting sweetviz (from -r requirements.txt (line 13))\n",
      "  Downloading sweetviz-2.3.1-py3-none-any.whl.metadata (24 kB)\n",
      "Collecting xfeat (from -r requirements.txt (line 15))\n",
      "  Downloading xfeat-0.1.1-py3-none-any.whl.metadata (462 bytes)\n",
      "Collecting lightgbm (from -r requirements.txt (line 17))\n",
      "  Downloading lightgbm-4.3.0.tar.gz (1.7 MB)\n",
      "\u001b[2K     \u001b[90m━━━━━━━━━━━━━━━━━━━━━━━━━━━━━━━━━━━━━━━━\u001b[0m \u001b[32m1.7/1.7 MB\u001b[0m \u001b[31m3.7 MB/s\u001b[0m eta \u001b[36m0:00:00\u001b[0ma \u001b[36m0:00:01\u001b[0m\n",
      "\u001b[?25h  Installing build dependencies ... \u001b[?25ldone\n",
      "\u001b[?25h  Getting requirements to build wheel ... \u001b[?25ldone\n",
      "\u001b[?25h  Installing backend dependencies ... \u001b[?25ldone\n",
      "\u001b[?25h  Preparing metadata (pyproject.toml) ... \u001b[?25ldone\n",
      "\u001b[?25hCollecting xgboost (from -r requirements.txt (line 18))\n",
      "  Downloading xgboost-2.0.3-py3-none-macosx_12_0_arm64.whl.metadata (2.0 kB)\n",
      "Collecting catboost (from -r requirements.txt (line 19))\n",
      "  Downloading catboost-1.2.3-cp39-cp39-macosx_11_0_universal2.whl.metadata (1.2 kB)\n",
      "Collecting optuna (from -r requirements.txt (line 20))\n",
      "  Downloading optuna-3.5.0-py3-none-any.whl.metadata (17 kB)\n",
      "Collecting tensorflow (from -r requirements.txt (line 26))\n",
      "  Downloading tensorflow-2.15.0-cp39-cp39-macosx_12_0_arm64.whl.metadata (3.6 kB)\n",
      "Requirement already satisfied: torch in /Users/i.itsuki/Library/Python/3.9/lib/python/site-packages (from -r requirements.txt (line 27)) (2.2.0)\n",
      "Collecting keras (from -r requirements.txt (line 28))\n",
      "  Downloading keras-3.0.5-py3-none-any.whl.metadata (4.8 kB)\n",
      "Collecting tslearn (from -r requirements.txt (line 30))\n",
      "  Downloading tslearn-0.6.3-py3-none-any.whl.metadata (14 kB)\n",
      "Collecting scikit-optimize (from -r requirements.txt (line 32))\n",
      "  Downloading scikit_optimize-0.9.0-py2.py3-none-any.whl.metadata (8.0 kB)\n",
      "Collecting pycaret[full] (from -r requirements.txt (line 34))\n",
      "  Downloading pycaret-3.3.0-py3-none-any.whl.metadata (17 kB)\n",
      "Collecting async-lru>=1.0.0 (from jupyterlab->-r requirements.txt (line 2))\n",
      "  Downloading async_lru-2.0.4-py3-none-any.whl.metadata (4.5 kB)\n",
      "Collecting httpx>=0.25.0 (from jupyterlab->-r requirements.txt (line 2))\n",
      "  Downloading httpx-0.27.0-py3-none-any.whl.metadata (7.2 kB)\n",
      "Requirement already satisfied: importlib-metadata>=4.8.3 in /Users/i.itsuki/Library/Python/3.9/lib/python/site-packages (from jupyterlab->-r requirements.txt (line 2)) (7.0.1)\n",
      "Requirement already satisfied: ipykernel in /Users/i.itsuki/Library/Python/3.9/lib/python/site-packages (from jupyterlab->-r requirements.txt (line 2)) (6.29.2)\n",
      "Requirement already satisfied: jinja2>=3.0.3 in /Users/i.itsuki/Library/Python/3.9/lib/python/site-packages (from jupyterlab->-r requirements.txt (line 2)) (3.1.3)\n",
      "Requirement already satisfied: jupyter-core in /Users/i.itsuki/Library/Python/3.9/lib/python/site-packages (from jupyterlab->-r requirements.txt (line 2)) (5.7.1)\n",
      "Collecting jupyter-lsp>=2.0.0 (from jupyterlab->-r requirements.txt (line 2))\n",
      "  Downloading jupyter_lsp-2.2.4-py3-none-any.whl.metadata (1.8 kB)\n",
      "Collecting jupyter-server<3,>=2.4.0 (from jupyterlab->-r requirements.txt (line 2))\n",
      "  Downloading jupyter_server-2.13.0-py3-none-any.whl.metadata (8.4 kB)\n",
      "Collecting jupyterlab-server<3,>=2.19.0 (from jupyterlab->-r requirements.txt (line 2))\n",
      "  Downloading jupyterlab_server-2.25.3-py3-none-any.whl.metadata (5.9 kB)\n",
      "Collecting notebook-shim>=0.2 (from jupyterlab->-r requirements.txt (line 2))\n",
      "  Downloading notebook_shim-0.2.4-py3-none-any.whl.metadata (4.0 kB)\n",
      "Requirement already satisfied: packaging in /Users/i.itsuki/Library/Python/3.9/lib/python/site-packages (from jupyterlab->-r requirements.txt (line 2)) (23.2)\n",
      "Collecting tomli (from jupyterlab->-r requirements.txt (line 2))\n",
      "  Using cached tomli-2.0.1-py3-none-any.whl.metadata (8.9 kB)\n",
      "Requirement already satisfied: tornado>=6.2.0 in /Users/i.itsuki/Library/Python/3.9/lib/python/site-packages (from jupyterlab->-r requirements.txt (line 2)) (6.4)\n",
      "Requirement already satisfied: traitlets in /Users/i.itsuki/Library/Python/3.9/lib/python/site-packages (from jupyterlab->-r requirements.txt (line 2)) (5.14.1)\n",
      "Requirement already satisfied: joblib>=1.2.0 in /Users/i.itsuki/Library/Python/3.9/lib/python/site-packages (from scikit-learn->-r requirements.txt (line 3)) (1.3.2)\n",
      "Requirement already satisfied: threadpoolctl>=2.0.0 in /Users/i.itsuki/Library/Python/3.9/lib/python/site-packages (from scikit-learn->-r requirements.txt (line 3)) (3.3.0)\n",
      "Requirement already satisfied: contourpy>=1.0.1 in /Users/i.itsuki/Library/Python/3.9/lib/python/site-packages (from matplotlib->-r requirements.txt (line 4)) (1.2.0)\n",
      "Requirement already satisfied: cycler>=0.10 in /Users/i.itsuki/Library/Python/3.9/lib/python/site-packages (from matplotlib->-r requirements.txt (line 4)) (0.12.1)\n",
      "Requirement already satisfied: fonttools>=4.22.0 in /Users/i.itsuki/Library/Python/3.9/lib/python/site-packages (from matplotlib->-r requirements.txt (line 4)) (4.49.0)\n",
      "Requirement already satisfied: kiwisolver>=1.3.1 in /Users/i.itsuki/Library/Python/3.9/lib/python/site-packages (from matplotlib->-r requirements.txt (line 4)) (1.4.5)\n",
      "Requirement already satisfied: pyparsing>=2.3.1 in /Users/i.itsuki/Library/Python/3.9/lib/python/site-packages (from matplotlib->-r requirements.txt (line 4)) (3.1.1)\n",
      "Requirement already satisfied: python-dateutil>=2.7 in /Users/i.itsuki/Library/Python/3.9/lib/python/site-packages (from matplotlib->-r requirements.txt (line 4)) (2.8.2)\n",
      "Requirement already satisfied: importlib-resources>=3.2.0 in /Users/i.itsuki/Library/Python/3.9/lib/python/site-packages (from matplotlib->-r requirements.txt (line 4)) (6.1.1)\n",
      "Requirement already satisfied: pytz>=2020.1 in /Users/i.itsuki/Library/Python/3.9/lib/python/site-packages (from pandas->-r requirements.txt (line 7)) (2024.1)\n",
      "Requirement already satisfied: tzdata>=2022.7 in /Users/i.itsuki/Library/Python/3.9/lib/python/site-packages (from pandas->-r requirements.txt (line 7)) (2024.1)\n",
      "Requirement already satisfied: tqdm>=4.43.0 in /Users/i.itsuki/Library/Python/3.9/lib/python/site-packages (from sweetviz->-r requirements.txt (line 13)) (4.66.2)\n",
      "Requirement already satisfied: PyYAML in /Users/i.itsuki/Library/Python/3.9/lib/python/site-packages (from xfeat->-r requirements.txt (line 15)) (6.0.1)\n",
      "Collecting ml-metrics (from xfeat->-r requirements.txt (line 15))\n",
      "  Downloading ml_metrics-0.1.4.tar.gz (5.0 kB)\n",
      "  Preparing metadata (setup.py) ... \u001b[?25lerror\n",
      "  \u001b[1;31merror\u001b[0m: \u001b[1msubprocess-exited-with-error\u001b[0m\n",
      "  \n",
      "  \u001b[31m×\u001b[0m \u001b[32mpython setup.py egg_info\u001b[0m did not run successfully.\n",
      "  \u001b[31m│\u001b[0m exit code: \u001b[1;36m1\u001b[0m\n",
      "  \u001b[31m╰─>\u001b[0m \u001b[31m[1 lines of output]\u001b[0m\n",
      "  \u001b[31m   \u001b[0m error in ml_metrics setup command: use_2to3 is invalid.\n",
      "  \u001b[31m   \u001b[0m \u001b[31m[end of output]\u001b[0m\n",
      "  \n",
      "  \u001b[1;35mnote\u001b[0m: This error originates from a subprocess, and is likely not a problem with pip.\n",
      "\u001b[?25h\u001b[1;31merror\u001b[0m: \u001b[1mmetadata-generation-failed\u001b[0m\n",
      "\n",
      "\u001b[31m×\u001b[0m Encountered error while generating package metadata.\n",
      "\u001b[31m╰─>\u001b[0m See above for output.\n",
      "\n",
      "\u001b[1;35mnote\u001b[0m: This is an issue with the package mentioned above, not pip.\n",
      "\u001b[1;36mhint\u001b[0m: See above for details.\n"
     ]
    }
   ],
   "source": [
    "!pip install -r requirements.txt"
   ]
  },
  {
   "cell_type": "code",
   "execution_count": 5,
   "metadata": {},
   "outputs": [
    {
     "name": "stdout",
     "output_type": "stream",
     "text": [
      "うんち\n"
     ]
    }
   ],
   "source": [
    "print('うんち')"
   ]
  },
  {
   "cell_type": "code",
   "execution_count": null,
   "metadata": {},
   "outputs": [],
   "source": []
  }
 ],
 "metadata": {
  "kernelspec": {
   "display_name": "Python 3",
   "language": "python",
   "name": "python3"
  },
  "language_info": {
   "codemirror_mode": {
    "name": "ipython",
    "version": 3
   },
   "file_extension": ".py",
   "mimetype": "text/x-python",
   "name": "python",
   "nbconvert_exporter": "python",
   "pygments_lexer": "ipython3",
   "version": "3.9.6"
  }
 },
 "nbformat": 4,
 "nbformat_minor": 2
}
