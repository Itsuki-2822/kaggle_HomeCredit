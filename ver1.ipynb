{
 "cells": [
  {
   "cell_type": "code",
   "execution_count": 1,
   "metadata": {},
   "outputs": [],
   "source": [
    "import numpy as np \n",
    "import pandas as pd\n",
    "import polars as pl\n",
    "import seaborn as sns\n",
    "import matplotlib.pyplot as plt\n",
    "from sklearn.model_selection import train_test_split\n",
    "import lightgbm as lgb\n",
    "import pickle as pkl\n",
    "import  gc\n",
    "import glob\n",
    "from tqdm import tqdm \n",
    "from dateutil.relativedelta import relativedelta\n",
    "import os"
   ]
  },
  {
   "cell_type": "code",
   "execution_count": 2,
   "metadata": {},
   "outputs": [],
   "source": [
    "class CFG:\n",
    "    home_directory = os.path.expanduser('~/kaggle_HomeCredit/parquet_files/')\n",
    "    train_data_path = os.path.join(home_directory, 'train/')\n",
    "    test_data_path = os.path.join(home_directory, 'test/')\n",
    "    \n",
    "    train_path = os.path.join(train_data_path, 'df_merged_train.parquet')"
   ]
  },
  {
   "cell_type": "code",
   "execution_count": 4,
   "metadata": {},
   "outputs": [
    {
     "data": {
      "text/html": [
       "<div><style>\n",
       ".dataframe > thead > tr,\n",
       ".dataframe > tbody > tr {\n",
       "  text-align: right;\n",
       "  white-space: pre-wrap;\n",
       "}\n",
       "</style>\n",
       "<small>shape: (1_526_659, 443)</small><table border=\"1\" class=\"dataframe\"><thead><tr><th>case_id</th><th>date_decision</th><th>MONTH</th><th>WEEK_NUM</th><th>target</th><th>actualdpdtolerance_344P</th><th>amtinstpaidbefduel24m_4187115A</th><th>annuity_780A</th><th>annuitynextmonth_57A</th><th>applicationcnt_361L</th><th>applications30d_658L</th><th>applicationscnt_1086L</th><th>applicationscnt_464L</th><th>applicationscnt_629L</th><th>applicationscnt_867L</th><th>avgdbddpdlast24m_3658932P</th><th>avgdbddpdlast3m_4187120P</th><th>avgdbdtollast24m_4525197P</th><th>avgdpdtolclosure24_3658938P</th><th>avginstallast24m_3658937A</th><th>avglnamtstart24m_4525187A</th><th>avgmaxdpdlast9m_3716943P</th><th>avgoutstandbalancel6m_4187114A</th><th>avgpmtlast12m_4525200A</th><th>bankacctype_710L</th><th>cardtype_51L</th><th>clientscnt12m_3712952L</th><th>clientscnt3m_3712950L</th><th>clientscnt6m_3712949L</th><th>clientscnt_100L</th><th>clientscnt_1022L</th><th>clientscnt_1071L</th><th>clientscnt_1130L</th><th>clientscnt_136L</th><th>clientscnt_157L</th><th>clientscnt_257L</th><th>clientscnt_304L</th><th>&hellip;</th><th>Diff_dateactivated_425D</th><th>Diff_dtlastpmt_581D</th><th>Diff_dtlastpmtallstes_3545839D</th><th>Diff_employedfrom_700D</th><th>Diff_firstnonzeroinstldate_307D</th><th>Diff_dateofcredend_289D</th><th>Diff_dateofcredend_353D</th><th>Diff_dateofcredstart_181D</th><th>Diff_dateofcredstart_739D</th><th>Diff_dateofrealrepmt_138D</th><th>Diff_lastupdate_1112D</th><th>Diff_lastupdate_388D</th><th>Diff_numberofoverdueinstlmaxdat_148D</th><th>Diff_numberofoverdueinstlmaxdat_641D</th><th>Diff_overdueamountmax2date_1002D</th><th>Diff_overdueamountmax2date_1142D</th><th>Diff_refreshdate_3813885D</th><th>Diff_contractdate_551D</th><th>Diff_contractmaturitydate_151D</th><th>Diff_lastupdate_260D</th><th>Diff_openingdate_857D</th><th>Diff_contractenddate_991D</th><th>Diff_openingdate_313D</th><th>Diff_birth_259D</th><th>Diff_birthdate_87D</th><th>Diff_empl_employedfrom_271D</th><th>Diff_recorddate_4527225D</th><th>Diff_deductiondate_4917603D</th><th>Diff_processingdate_168D</th><th>max_0_24_months</th><th>max_24_months</th><th>mean_0_24_months</th><th>mean_24_months</th><th>median_0_24_months</th><th>median_24_months</th><th>min_0_24_months</th><th>min_24_months</th></tr><tr><td>i32</td><td>datetime[ns]</td><td>i32</td><td>i8</td><td>i8</td><td>f64</td><td>f64</td><td>i32</td><td>f64</td><td>i8</td><td>i8</td><td>i16</td><td>i16</td><td>i8</td><td>i16</td><td>f64</td><td>f64</td><td>f64</td><td>f64</td><td>f64</td><td>f64</td><td>f64</td><td>f64</td><td>f64</td><td>str</td><td>str</td><td>i16</td><td>i8</td><td>i16</td><td>i8</td><td>i16</td><td>i8</td><td>i8</td><td>f64</td><td>i16</td><td>i8</td><td>i16</td><td>&hellip;</td><td>f64</td><td>f64</td><td>f64</td><td>f64</td><td>f64</td><td>f64</td><td>f64</td><td>f64</td><td>f64</td><td>f64</td><td>f64</td><td>f64</td><td>f64</td><td>f64</td><td>f64</td><td>f64</td><td>f64</td><td>f64</td><td>f64</td><td>f64</td><td>f64</td><td>f64</td><td>f64</td><td>i16</td><td>f64</td><td>f64</td><td>f64</td><td>f64</td><td>f64</td><td>f64</td><td>f64</td><td>f64</td><td>f64</td><td>f64</td><td>f64</td><td>f64</td><td>f64</td></tr></thead><tbody><tr><td>0</td><td>2019-01-03 00:00:00</td><td>201901</td><td>0</td><td>0</td><td>null</td><td>null</td><td>1917</td><td>0.0</td><td>0</td><td>0</td><td>0</td><td>0</td><td>0</td><td>0</td><td>null</td><td>null</td><td>null</td><td>null</td><td>null</td><td>null</td><td>null</td><td>null</td><td>null</td><td>null</td><td>null</td><td>0</td><td>0</td><td>0</td><td>0</td><td>0</td><td>0</td><td>0</td><td>null</td><td>0</td><td>0</td><td>0</td><td>&hellip;</td><td>null</td><td>null</td><td>null</td><td>null</td><td>null</td><td>null</td><td>null</td><td>null</td><td>null</td><td>null</td><td>null</td><td>null</td><td>null</td><td>null</td><td>null</td><td>null</td><td>null</td><td>null</td><td>null</td><td>null</td><td>null</td><td>null</td><td>null</td><td>11874</td><td>null</td><td>475.0</td><td>null</td><td>null</td><td>null</td><td>null</td><td>null</td><td>null</td><td>null</td><td>null</td><td>null</td><td>null</td><td>null</td></tr><tr><td>1</td><td>2019-01-03 00:00:00</td><td>201901</td><td>0</td><td>0</td><td>null</td><td>null</td><td>3134</td><td>0.0</td><td>0</td><td>0</td><td>0</td><td>0</td><td>0</td><td>0</td><td>null</td><td>null</td><td>null</td><td>null</td><td>null</td><td>null</td><td>null</td><td>null</td><td>null</td><td>null</td><td>null</td><td>0</td><td>0</td><td>0</td><td>0</td><td>0</td><td>0</td><td>0</td><td>0.0</td><td>3</td><td>0</td><td>0</td><td>&hellip;</td><td>null</td><td>null</td><td>null</td><td>null</td><td>null</td><td>null</td><td>null</td><td>null</td><td>null</td><td>null</td><td>null</td><td>null</td><td>null</td><td>null</td><td>null</td><td>null</td><td>null</td><td>null</td><td>null</td><td>null</td><td>null</td><td>null</td><td>null</td><td>22435</td><td>null</td><td>3718.0</td><td>null</td><td>null</td><td>null</td><td>null</td><td>null</td><td>null</td><td>null</td><td>null</td><td>null</td><td>null</td><td>null</td></tr><tr><td>2</td><td>2019-01-04 00:00:00</td><td>201901</td><td>0</td><td>0</td><td>null</td><td>null</td><td>4937</td><td>0.0</td><td>0</td><td>0</td><td>0</td><td>0</td><td>0</td><td>0</td><td>null</td><td>null</td><td>null</td><td>null</td><td>null</td><td>null</td><td>null</td><td>null</td><td>null</td><td>null</td><td>null</td><td>0</td><td>0</td><td>0</td><td>0</td><td>0</td><td>0</td><td>0</td><td>null</td><td>0</td><td>0</td><td>0</td><td>&hellip;</td><td>null</td><td>null</td><td>null</td><td>3245.0</td><td>2071.0</td><td>null</td><td>null</td><td>null</td><td>null</td><td>null</td><td>null</td><td>null</td><td>null</td><td>null</td><td>null</td><td>null</td><td>null</td><td>null</td><td>null</td><td>null</td><td>null</td><td>null</td><td>null</td><td>16105</td><td>null</td><td>3245.0</td><td>null</td><td>null</td><td>null</td><td>null</td><td>null</td><td>null</td><td>null</td><td>null</td><td>null</td><td>null</td><td>null</td></tr><tr><td>3</td><td>2019-01-03 00:00:00</td><td>201901</td><td>0</td><td>0</td><td>null</td><td>null</td><td>4643</td><td>0.0</td><td>0</td><td>1</td><td>0</td><td>2</td><td>0</td><td>1</td><td>null</td><td>null</td><td>null</td><td>null</td><td>null</td><td>null</td><td>null</td><td>null</td><td>null</td><td>null</td><td>null</td><td>0</td><td>0</td><td>0</td><td>0</td><td>0</td><td>0</td><td>1</td><td>null</td><td>0</td><td>0</td><td>0</td><td>&hellip;</td><td>null</td><td>null</td><td>null</td><td>233.0</td><td>-35.0</td><td>null</td><td>null</td><td>null</td><td>null</td><td>null</td><td>null</td><td>null</td><td>null</td><td>null</td><td>null</td><td>null</td><td>null</td><td>null</td><td>null</td><td>null</td><td>null</td><td>null</td><td>null</td><td>9286</td><td>null</td><td>233.0</td><td>null</td><td>null</td><td>null</td><td>null</td><td>null</td><td>null</td><td>null</td><td>null</td><td>null</td><td>null</td><td>null</td></tr><tr><td>4</td><td>2019-01-04 00:00:00</td><td>201901</td><td>0</td><td>1</td><td>null</td><td>null</td><td>3390</td><td>0.0</td><td>0</td><td>1</td><td>0</td><td>0</td><td>0</td><td>1</td><td>null</td><td>null</td><td>null</td><td>null</td><td>null</td><td>null</td><td>null</td><td>null</td><td>null</td><td>null</td><td>null</td><td>0</td><td>0</td><td>0</td><td>0</td><td>0</td><td>0</td><td>0</td><td>null</td><td>0</td><td>0</td><td>0</td><td>&hellip;</td><td>null</td><td>null</td><td>null</td><td>null</td><td>-35.0</td><td>null</td><td>null</td><td>null</td><td>null</td><td>null</td><td>null</td><td>null</td><td>null</td><td>null</td><td>null</td><td>null</td><td>null</td><td>null</td><td>null</td><td>null</td><td>null</td><td>null</td><td>null</td><td>9134</td><td>null</td><td>1481.0</td><td>null</td><td>null</td><td>null</td><td>null</td><td>null</td><td>null</td><td>null</td><td>null</td><td>null</td><td>null</td><td>null</td></tr><tr><td>&hellip;</td><td>&hellip;</td><td>&hellip;</td><td>&hellip;</td><td>&hellip;</td><td>&hellip;</td><td>&hellip;</td><td>&hellip;</td><td>&hellip;</td><td>&hellip;</td><td>&hellip;</td><td>&hellip;</td><td>&hellip;</td><td>&hellip;</td><td>&hellip;</td><td>&hellip;</td><td>&hellip;</td><td>&hellip;</td><td>&hellip;</td><td>&hellip;</td><td>&hellip;</td><td>&hellip;</td><td>&hellip;</td><td>&hellip;</td><td>&hellip;</td><td>&hellip;</td><td>&hellip;</td><td>&hellip;</td><td>&hellip;</td><td>&hellip;</td><td>&hellip;</td><td>&hellip;</td><td>&hellip;</td><td>&hellip;</td><td>&hellip;</td><td>&hellip;</td><td>&hellip;</td><td>&hellip;</td><td>&hellip;</td><td>&hellip;</td><td>&hellip;</td><td>&hellip;</td><td>&hellip;</td><td>&hellip;</td><td>&hellip;</td><td>&hellip;</td><td>&hellip;</td><td>&hellip;</td><td>&hellip;</td><td>&hellip;</td><td>&hellip;</td><td>&hellip;</td><td>&hellip;</td><td>&hellip;</td><td>&hellip;</td><td>&hellip;</td><td>&hellip;</td><td>&hellip;</td><td>&hellip;</td><td>&hellip;</td><td>&hellip;</td><td>&hellip;</td><td>&hellip;</td><td>&hellip;</td><td>&hellip;</td><td>&hellip;</td><td>&hellip;</td><td>&hellip;</td><td>&hellip;</td><td>&hellip;</td><td>&hellip;</td><td>&hellip;</td><td>&hellip;</td><td>&hellip;</td><td>&hellip;</td></tr><tr><td>2703450</td><td>2020-10-05 00:00:00</td><td>202010</td><td>91</td><td>0</td><td>0.0</td><td>176561.36</td><td>3675</td><td>0.0</td><td>0</td><td>0</td><td>0</td><td>0</td><td>0</td><td>10</td><td>-23.0</td><td>-43.0</td><td>-23.0</td><td>0.0</td><td>7356.8003</td><td>null</td><td>0.0</td><td>16392.496</td><td>6750.2</td><td>&quot;CA&quot;</td><td>null</td><td>0</td><td>0</td><td>0</td><td>0</td><td>0</td><td>0</td><td>0</td><td>null</td><td>0</td><td>0</td><td>0</td><td>&hellip;</td><td>355.0</td><td>27.0</td><td>27.0</td><td>null</td><td>332.0</td><td>-94.0</td><td>4703.0</td><td>5068.0</td><td>637.0</td><td>4819.0</td><td>-3.0</td><td>4759.0</td><td>4841.0</td><td>null</td><td>null</td><td>null</td><td>-12.0</td><td>null</td><td>null</td><td>null</td><td>null</td><td>null</td><td>null</td><td>22193</td><td>null</td><td>null</td><td>null</td><td>null</td><td>null</td><td>1.0</td><td>0.0</td><td>0.0</td><td>0.0</td><td>0.0</td><td>0.0</td><td>0.0</td><td>0.0</td></tr><tr><td>2703451</td><td>2020-10-05 00:00:00</td><td>202010</td><td>91</td><td>0</td><td>0.0</td><td>301276.47</td><td>7088</td><td>6191.6</td><td>0</td><td>0</td><td>5</td><td>0</td><td>0</td><td>5</td><td>-18.0</td><td>-12.0</td><td>-18.0</td><td>0.0</td><td>12553.2</td><td>null</td><td>0.0</td><td>105129.31</td><td>15780.4</td><td>&quot;CA&quot;</td><td>null</td><td>0</td><td>0</td><td>0</td><td>0</td><td>0</td><td>0</td><td>0</td><td>null</td><td>0</td><td>0</td><td>0</td><td>&hellip;</td><td>364.0</td><td>null</td><td>371.0</td><td>null</td><td>null</td><td>-360.0</td><td>1357.0</td><td>1907.0</td><td>371.0</td><td>1387.0</td><td>-3.0</td><td>1387.0</td><td>null</td><td>null</td><td>null</td><td>null</td><td>-12.0</td><td>null</td><td>null</td><td>null</td><td>null</td><td>null</td><td>null</td><td>25541</td><td>null</td><td>null</td><td>null</td><td>null</td><td>null</td><td>0.0</td><td>0.0</td><td>0.0</td><td>0.0</td><td>0.0</td><td>0.0</td><td>0.0</td><td>0.0</td></tr><tr><td>2703452</td><td>2020-10-05 00:00:00</td><td>202010</td><td>91</td><td>0</td><td>0.0</td><td>14232.4</td><td>7788</td><td>0.0</td><td>0</td><td>0</td><td>0</td><td>0</td><td>0</td><td>3</td><td>-12.0</td><td>null</td><td>-16.0</td><td>1.0</td><td>2662.4001</td><td>null</td><td>null</td><td>null</td><td>1500.6</td><td>&quot;CA&quot;</td><td>null</td><td>0</td><td>0</td><td>0</td><td>0</td><td>0</td><td>0</td><td>0</td><td>null</td><td>0</td><td>0</td><td>0</td><td>&hellip;</td><td>null</td><td>null</td><td>null</td><td>null</td><td>14.0</td><td>-97.0</td><td>1759.0</td><td>3220.0</td><td>2095.0</td><td>2204.0</td><td>5.0</td><td>2157.0</td><td>null</td><td>null</td><td>null</td><td>null</td><td>-12.0</td><td>null</td><td>null</td><td>null</td><td>null</td><td>null</td><td>null</td><td>15771</td><td>null</td><td>null</td><td>null</td><td>153.0</td><td>null</td><td>0.0</td><td>0.0</td><td>0.0</td><td>0.0</td><td>0.0</td><td>0.0</td><td>0.0</td><td>0.0</td></tr><tr><td>2703453</td><td>2020-10-05 00:00:00</td><td>202010</td><td>91</td><td>0</td><td>0.0</td><td>197371.58</td><td>1195</td><td>2827.2</td><td>0</td><td>0</td><td>36</td><td>0</td><td>0</td><td>9</td><td>-33.0</td><td>-64.0</td><td>-34.0</td><td>0.0</td><td>8212.601</td><td>null</td><td>0.0</td><td>47943.062</td><td>9921.2</td><td>&quot;CA&quot;</td><td>null</td><td>0</td><td>0</td><td>0</td><td>0</td><td>1</td><td>0</td><td>0</td><td>null</td><td>0</td><td>0</td><td>6</td><td>&hellip;</td><td>287.0</td><td>null</td><td>-4.0</td><td>null</td><td>null</td><td>-621.0</td><td>3770.0</td><td>4500.0</td><td>292.0</td><td>3770.0</td><td>-3.0</td><td>3749.0</td><td>null</td><td>null</td><td>null</td><td>null</td><td>-12.0</td><td>null</td><td>null</td><td>null</td><td>2240.0</td><td>null</td><td>2240.0</td><td>25814</td><td>null</td><td>null</td><td>null</td><td>null</td><td>null</td><td>0.0</td><td>0.0</td><td>0.0</td><td>0.0</td><td>0.0</td><td>0.0</td><td>0.0</td><td>0.0</td></tr><tr><td>2703454</td><td>2020-10-05 00:00:00</td><td>202010</td><td>91</td><td>0</td><td>0.0</td><td>82949.6</td><td>4533</td><td>2986.8</td><td>0</td><td>0</td><td>0</td><td>0</td><td>0</td><td>0</td><td>-6.0</td><td>-5.0</td><td>-6.0</td><td>0.0</td><td>6405.4</td><td>15998.0</td><td>0.0</td><td>15651.796</td><td>6352.0</td><td>&quot;CA&quot;</td><td>null</td><td>0</td><td>0</td><td>0</td><td>0</td><td>0</td><td>0</td><td>0</td><td>null</td><td>0</td><td>0</td><td>0</td><td>&hellip;</td><td>104.0</td><td>null</td><td>-14.0</td><td>null</td><td>76.0</td><td>-77.0</td><td>4850.0</td><td>5466.0</td><td>106.0</td><td>4850.0</td><td>-3.0</td><td>4497.0</td><td>null</td><td>null</td><td>null</td><td>null</td><td>-12.0</td><td>null</td><td>null</td><td>null</td><td>null</td><td>null</td><td>null</td><td>26485</td><td>null</td><td>null</td><td>null</td><td>null</td><td>null</td><td>0.0</td><td>0.0</td><td>0.0</td><td>0.0</td><td>0.0</td><td>0.0</td><td>0.0</td><td>0.0</td></tr></tbody></table></div>"
      ],
      "text/plain": [
       "shape: (1_526_659, 443)\n",
       "┌─────────┬────────────┬────────┬──────────┬───┬────────────┬────────────┬────────────┬────────────┐\n",
       "│ case_id ┆ date_decis ┆ MONTH  ┆ WEEK_NUM ┆ … ┆ median_0_2 ┆ median_24_ ┆ min_0_24_m ┆ min_24_mon │\n",
       "│ ---     ┆ ion        ┆ ---    ┆ ---      ┆   ┆ 4_months   ┆ months     ┆ onths      ┆ ths        │\n",
       "│ i32     ┆ ---        ┆ i32    ┆ i8       ┆   ┆ ---        ┆ ---        ┆ ---        ┆ ---        │\n",
       "│         ┆ datetime[n ┆        ┆          ┆   ┆ f64        ┆ f64        ┆ f64        ┆ f64        │\n",
       "│         ┆ s]         ┆        ┆          ┆   ┆            ┆            ┆            ┆            │\n",
       "╞═════════╪════════════╪════════╪══════════╪═══╪════════════╪════════════╪════════════╪════════════╡\n",
       "│ 0       ┆ 2019-01-03 ┆ 201901 ┆ 0        ┆ … ┆ null       ┆ null       ┆ null       ┆ null       │\n",
       "│         ┆ 00:00:00   ┆        ┆          ┆   ┆            ┆            ┆            ┆            │\n",
       "│ 1       ┆ 2019-01-03 ┆ 201901 ┆ 0        ┆ … ┆ null       ┆ null       ┆ null       ┆ null       │\n",
       "│         ┆ 00:00:00   ┆        ┆          ┆   ┆            ┆            ┆            ┆            │\n",
       "│ 2       ┆ 2019-01-04 ┆ 201901 ┆ 0        ┆ … ┆ null       ┆ null       ┆ null       ┆ null       │\n",
       "│         ┆ 00:00:00   ┆        ┆          ┆   ┆            ┆            ┆            ┆            │\n",
       "│ 3       ┆ 2019-01-03 ┆ 201901 ┆ 0        ┆ … ┆ null       ┆ null       ┆ null       ┆ null       │\n",
       "│         ┆ 00:00:00   ┆        ┆          ┆   ┆            ┆            ┆            ┆            │\n",
       "│ 4       ┆ 2019-01-04 ┆ 201901 ┆ 0        ┆ … ┆ null       ┆ null       ┆ null       ┆ null       │\n",
       "│         ┆ 00:00:00   ┆        ┆          ┆   ┆            ┆            ┆            ┆            │\n",
       "│ …       ┆ …          ┆ …      ┆ …        ┆ … ┆ …          ┆ …          ┆ …          ┆ …          │\n",
       "│ 2703450 ┆ 2020-10-05 ┆ 202010 ┆ 91       ┆ … ┆ 0.0        ┆ 0.0        ┆ 0.0        ┆ 0.0        │\n",
       "│         ┆ 00:00:00   ┆        ┆          ┆   ┆            ┆            ┆            ┆            │\n",
       "│ 2703451 ┆ 2020-10-05 ┆ 202010 ┆ 91       ┆ … ┆ 0.0        ┆ 0.0        ┆ 0.0        ┆ 0.0        │\n",
       "│         ┆ 00:00:00   ┆        ┆          ┆   ┆            ┆            ┆            ┆            │\n",
       "│ 2703452 ┆ 2020-10-05 ┆ 202010 ┆ 91       ┆ … ┆ 0.0        ┆ 0.0        ┆ 0.0        ┆ 0.0        │\n",
       "│         ┆ 00:00:00   ┆        ┆          ┆   ┆            ┆            ┆            ┆            │\n",
       "│ 2703453 ┆ 2020-10-05 ┆ 202010 ┆ 91       ┆ … ┆ 0.0        ┆ 0.0        ┆ 0.0        ┆ 0.0        │\n",
       "│         ┆ 00:00:00   ┆        ┆          ┆   ┆            ┆            ┆            ┆            │\n",
       "│ 2703454 ┆ 2020-10-05 ┆ 202010 ┆ 91       ┆ … ┆ 0.0        ┆ 0.0        ┆ 0.0        ┆ 0.0        │\n",
       "│         ┆ 00:00:00   ┆        ┆          ┆   ┆            ┆            ┆            ┆            │\n",
       "└─────────┴────────────┴────────┴──────────┴───┴────────────┴────────────┴────────────┴────────────┘"
      ]
     },
     "execution_count": 4,
     "metadata": {},
     "output_type": "execute_result"
    }
   ],
   "source": [
    "df = pl.read_parquet(CFG.train_path)\n",
    "df"
   ]
  }
 ],
 "metadata": {
  "kernelspec": {
   "display_name": ".venv",
   "language": "python",
   "name": "python3"
  },
  "language_info": {
   "codemirror_mode": {
    "name": "ipython",
    "version": 3
   },
   "file_extension": ".py",
   "mimetype": "text/x-python",
   "name": "python",
   "nbconvert_exporter": "python",
   "pygments_lexer": "ipython3",
   "version": "3.11.2"
  }
 },
 "nbformat": 4,
 "nbformat_minor": 2
}
