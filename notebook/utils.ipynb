{
 "cells": [
  {
   "cell_type": "code",
   "execution_count": null,
   "metadata": {},
   "outputs": [],
   "source": [
    "def create_submission(test_df, sample_submission, submission_dir, submission_file_name):\n",
    "    df_subm = pd.read_csv(sample_submission)\n",
    "    df_subm.set_index(\"case_id\", inplace=True)\n",
    "    \n",
    "    df_subm[\"score\"] = test_df.set_index(\"case_id\")[\"pred_prob\"]\n",
    "    submission_full_path = os.path.join(submission_dir, submission_file_name)\n",
    "    df_subm.to_csv(submission_full_path)\n",
    "\n",
    "\n",
    "test_df = Predicting(df_test, features)\n",
    "create_submission(test_df, SAMPLE_SUB, CFG.SUB_DATA_PATH, \"submission.csv\")"
   ]
  },
  {
   "cell_type": "code",
   "execution_count": null,
   "metadata": {},
   "outputs": [],
   "source": [
    "import matplotlib.pyplot as plt\n",
    "import seaborn as sns\n",
    "model_path = CFG.MODEL_DATA_PATH / f'lightgbm_fold4_seed{CFG.seed}_ver{CFG.VER}.pkl'\n",
    "model = pickle.load(open(model_path, 'rb'))\n",
    "\n",
    "# 特徴量重要度の取得\n",
    "feature_importances = model.feature_importance(importance_type='gain')\n",
    "feature_names = model.feature_name()\n",
    "\n",
    "# 特徴量とその重要度をデータフレームに格納\n",
    "importance_df = pd.DataFrame({\n",
    "    'Feature': feature_names,\n",
    "    'Importance': feature_importances\n",
    "})\n",
    "\n",
    "# 重要度が高い順に並べ替え\n",
    "importance_df = importance_df.sort_values(by='Importance', ascending=False)\n",
    "\n",
    "# プロットの作成\n",
    "plt.figure(figsize=(10, 15))\n",
    "sns.barplot(x='Importance', y='Feature', data=importance_df)\n",
    "plt.title('Feature Importances')\n",
    "plt.xlabel('Importance')\n",
    "plt.ylabel('Feature')\n",
    "plt.show()"
   ]
  }
 ],
 "metadata": {
  "language_info": {
   "name": "python"
  }
 },
 "nbformat": 4,
 "nbformat_minor": 2
}
